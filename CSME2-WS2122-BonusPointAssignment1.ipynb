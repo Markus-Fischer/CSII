{
 "cells": [
  {
   "cell_type": "markdown",
   "metadata": {},
   "source": [
    "# CSME2 Bonus Point Assignment 1\n",
    "\n",
    "<div style=\"text-align: right;font-size: 0.8em\">Document Version 1.0.0, released 01/12/2021</div>\n",
    "For detailed task instructions, please refer to the assignment PDF.\n",
    "\n",
    "DO NOT CLEAR THE OUTPUT of the notebook you are submitting!"
   ]
  },
  {
   "cell_type": "code",
   "execution_count": 22,
   "metadata": {},
   "outputs": [],
   "source": [
    "# Add any additional import you need in this cell\n",
    "import numpy as np\n",
    "from sklearn.cluster import kmeans_plusplus, KMeans\n",
    "import os\n",
    "from scipy.io import loadmat\n",
    "import math\n",
    "from matplotlib import pyplot as plt\n",
    "from random import seed\n",
    "from random import random\n",
    "from numpy.random import default_rng\n",
    "import pandas as pd\n",
    "\n",
    "np.random.seed(1234)"
   ]
  },
  {
   "cell_type": "markdown",
   "metadata": {},
   "source": [
    "### Setup\n",
    "__Task A.1__ Load the data into the following numpy arrays. For the output, only use the first torque variable.\n",
    "Randomly split the data from the file ```sarcos_inv.mat``` into a training set (80%) and a validation set (20%)."
   ]
  },
  {
   "cell_type": "code",
   "execution_count": 2,
   "metadata": {},
   "outputs": [],
   "source": [
    "path = os.getcwd()\n",
    "\n",
    "data = loadmat(path + '/data/sarcos_inv.mat')\n",
    "test_data = loadmat(path + '/data/sarcos_inv_test.mat')\n",
    "\n",
    "data_array = data['sarcos_inv']\n",
    "test_data_array = test_data['sarcos_inv_test']\n",
    "\n"
   ]
  },
  {
   "cell_type": "code",
   "execution_count": 3,
   "metadata": {},
   "outputs": [],
   "source": [
    "# Randomly splits the data into train and validation data\n",
    "def split_data(array, percentage_train): # percentage_train defined as float\n",
    "    np.random.shuffle(array)\n",
    "    train, validation = array[:math.floor(array.shape[0] * percentage_train) ,:], array[math.floor(array.shape[0] * percentage_train):,:]\n",
    "    return train, validation"
   ]
  },
  {
   "cell_type": "code",
   "execution_count": 4,
   "metadata": {},
   "outputs": [],
   "source": [
    "# Input and output training data\n",
    "train, validation = split_data(data_array, 0.8)\n",
    "\n",
    "input_data = data_array[:, :21]\n",
    "output_data = data_array[:, 21:22]\n",
    "\n",
    "xs_train = train[:, :21]\n",
    "ys_train = train[:, 21:22]\n",
    "\n",
    "# Input and output validation data\n",
    "xs_valid = validation[:, :21]\n",
    "ys_valid = validation[:, 21:22]\n",
    "\n",
    "# Input and output test data\n",
    "xs_test = test_data_array[:, :21]\n",
    "ys_test = test_data_array[:, 21:22]"
   ]
  },
  {
   "cell_type": "code",
   "execution_count": 5,
   "metadata": {},
   "outputs": [
    {
     "name": "stdout",
     "output_type": "stream",
     "text": [
      "(35587, 21)\n",
      "(35587, 1)\n",
      "(8897, 21)\n",
      "(8897, 1)\n",
      "(4449, 21)\n",
      "(4449, 1)\n"
     ]
    }
   ],
   "source": [
    "# Check for yourself \n",
    "# The following should lead to output \n",
    "# (44484, 21)\n",
    "# (44484, 1)\n",
    "# (8897, 21)\n",
    "# (8897, 1)\n",
    "# (4449, 21)\n",
    "# (4449, 1)\n",
    "print(xs_train.shape)\n",
    "print(ys_train.shape)\n",
    "print(xs_valid.shape)\n",
    "print(ys_valid.shape)\n",
    "print(xs_test.shape)\n",
    "print(ys_test.shape)"
   ]
  },
  {
   "cell_type": "markdown",
   "metadata": {},
   "source": [
    "##### Manually defining function for mean, std and sum"
   ]
  },
  {
   "cell_type": "code",
   "execution_count": 6,
   "metadata": {},
   "outputs": [],
   "source": [
    "#sum formular for arrays as input and total sum as output\n",
    "def sum_array_total(xs):\n",
    "    sum_temp = 0\n",
    "    sum_temp2 = 0\n",
    "    \n",
    "    for i in xs:\n",
    "        sum_temp2 += i\n",
    "    \n",
    "    for j in sum_temp2:\n",
    "        sum_temp += j\n",
    "        \n",
    "    return sum_temp"
   ]
  },
  {
   "cell_type": "code",
   "execution_count": 7,
   "metadata": {},
   "outputs": [],
   "source": [
    "#sum formular for arrays as input and column sum as output\n",
    "def sum_array_column(xs):\n",
    "    sum_temp = 0\n",
    "    \n",
    "    for i in xs:\n",
    "        sum_temp += i\n",
    "        \n",
    "    return sum_temp"
   ]
  },
  {
   "cell_type": "code",
   "execution_count": 8,
   "metadata": {},
   "outputs": [],
   "source": [
    "# manual calculation of the mean\n",
    "def mean_manual(xs):\n",
    "    mean_array = sum_array_total(xs)/xs.size\n",
    "    return mean_array  "
   ]
  },
  {
   "cell_type": "code",
   "execution_count": 9,
   "metadata": {},
   "outputs": [],
   "source": [
    "# manual calculation of the std\n",
    "def std_manual(xs):\n",
    "    mean = mean_manual(xs)\n",
    "    amount = xs.size\n",
    "    std = math.sqrt(sum_array_total((xs-mean)**2)/amount)\n",
    "    return std"
   ]
  },
  {
   "cell_type": "markdown",
   "metadata": {},
   "source": [
    "__Task A.2__ Standardize the data such that\n",
    "1. Training inputs have mean 0\n",
    "2. Each training input variable has variance 1\n",
    "3. The training outputs have mean 0\n",
    "4. Apply the same transformation to the validation and test data\n",
    "\n",
    "Implement this manually, i.e., do not use a ready scaler like the one provided by scikit-learn."
   ]
  },
  {
   "cell_type": "code",
   "execution_count": 10,
   "metadata": {},
   "outputs": [],
   "source": [
    "# Calculate the mean and std of the training data\n",
    "input_mean = sum_array_column(xs_test)/xs_test.shape[0]\n",
    "input_std = np.sqrt((sum_array_column((xs_train - sum_array_column(xs_train)/xs_train.shape[0])**2))/xs_train.shape[0])\n",
    "output_mean = sum_array_column(ys_train)/ys_train.shape[0]\n",
    "\n",
    "# Store the standardized data in the following variables\n",
    "xs_train_std = (xs_train - input_mean)/input_std\n",
    "ys_train_std = ys_train - output_mean\n",
    "\n",
    "xs_valid_std = (xs_valid - input_mean)/input_std\n",
    "ys_valid_std = ys_valid - output_mean\n",
    "\n",
    "xs_test_std = (xs_test - input_mean)/input_std\n",
    "ys_test_std = ys_test - output_mean"
   ]
  },
  {
   "cell_type": "code",
   "execution_count": 11,
   "metadata": {},
   "outputs": [
    {
     "name": "stdout",
     "output_type": "stream",
     "text": [
      "0.0015470586122090751\n",
      "4.573413799484798e-14\n",
      "-0.0016261531408336494\n",
      "0.19872240379652337\n",
      "4.881943996540713e-16\n",
      "0.07801142839814729\n",
      "[1. 1. 1. 1. 1. 1. 1. 1. 1. 1. 1. 1. 1. 1. 1. 1. 1. 1. 1. 1. 1.]\n",
      "[0.99941944 0.99560469 0.99031795 1.00475838 0.98202453 0.99057856\n",
      " 0.98962848 1.04329953 0.98648227 1.01507856 1.01233076 0.97888543\n",
      " 0.99605626 1.01274888 1.04355923 1.0075977  1.01756782 1.00041788\n",
      " 0.9999016  1.01836687 1.01063379]\n",
      "[0.9998744  0.99869108 0.99799683 0.99987941 0.99726481 0.99929238\n",
      " 0.99628287 1.01155323 1.00516321 1.00175004 1.00261741 0.99621362\n",
      " 0.99665721 1.00328967 1.00272614 0.98505808 1.02386997 1.00787492\n",
      " 1.0053608  1.00520189 1.00324081]\n"
     ]
    }
   ],
   "source": [
    "# Check for yourself\n",
    "# The following should lead to (roughly) six zeros and three arrays with (approximately) ones\n",
    "print(np.mean(xs_train_std))\n",
    "print(np.mean(ys_train_std))\n",
    "print(np.mean(xs_valid_std))\n",
    "print(np.mean(ys_valid_std))\n",
    "print(np.mean(xs_test_std))\n",
    "print(np.mean(ys_test_std))\n",
    "\n",
    "print(np.var(xs_train_std, axis=0))\n",
    "print(np.var(xs_valid_std, axis=0))\n",
    "print(np.var(xs_test_std, axis=0))"
   ]
  },
  {
   "cell_type": "markdown",
   "metadata": {},
   "source": [
    "__Task A.3__"
   ]
  },
  {
   "cell_type": "code",
   "execution_count": 12,
   "metadata": {},
   "outputs": [],
   "source": [
    "# Task A.3.a\n",
    "# Implement a function estimating the variance\n",
    "def my_variance(xs):\n",
    "    \"\"\"Calculate the empirical variance of a given vector of scalars\n",
    "    \n",
    "    Arguments\n",
    "    xs      1d numpy array\n",
    "    \n",
    "    Returns\n",
    "    The empirical variance of the provided vector\n",
    "    \"\"\"\n",
    "    mean = sum_array_total(xs)/xs.shape[0]\n",
    "    variance = sum_array_total((xs-mean_manual(xs))**2)/xs.shape[0]\n",
    "    return variance\n"
   ]
  },
  {
   "cell_type": "code",
   "execution_count": 13,
   "metadata": {},
   "outputs": [
    {
     "data": {
      "text/plain": [
       "413.45411781843603"
      ]
     },
     "execution_count": 13,
     "metadata": {},
     "output_type": "execute_result"
    }
   ],
   "source": [
    "# Task A.3.b\n",
    "# Calculate the variance of ys_train_std using your function my_variance\n",
    "var_ys_train = my_variance(ys_train_std)\n",
    "var_ys_train"
   ]
  },
  {
   "cell_type": "code",
   "execution_count": 14,
   "metadata": {},
   "outputs": [],
   "source": [
    "# Task A.3.c\n",
    "# Implement a function calculating the SMSE between two 1d numpy arrays given a normalizing factor\n",
    "def my_smse(z1, z2, s):\n",
    "    \"\"\"Calculate the Standardized Mean Squared Error (SMSE)\n",
    "    \n",
    "    Arguments\n",
    "    z1      1d numpy array (usually the predictions)\n",
    "    z2      1d numpy array (usually the test data)\n",
    "    s       Normalization factor (usually the variance of the test data)\n",
    "    \n",
    "    Returns\n",
    "    The SMSE of the provided data\n",
    "    \"\"\"\n",
    "    # Your implementation\n",
    "    calc_sum = sum_array_total((z1-z2)**2) # substracts the arrays form each other, squares them and then sums up the values \n",
    "    smse = 1/(z1.shape[0] * s) * calc_sum\n",
    "    return smse"
   ]
  },
  {
   "cell_type": "markdown",
   "metadata": {},
   "source": [
    "## Linear regression\n",
    "### Simple linear regression\n",
    "__Task A.4__"
   ]
  },
  {
   "cell_type": "code",
   "execution_count": 15,
   "metadata": {},
   "outputs": [
    {
     "data": {
      "text/plain": [
       "0.07535841224617781"
      ]
     },
     "execution_count": 15,
     "metadata": {},
     "output_type": "execute_result"
    }
   ],
   "source": [
    "# This variable should contain the weights corresponding to simple linear regression (LS criterion, no bias term)\n",
    "\n",
    "vector = np.ones(xs_train_std.shape[0]) # creates vector only containing ones \n",
    "phi = np.c_[vector, xs_train_std] # creates the basis function \n",
    "w_lr = np.linalg.inv(phi.T @ phi) @ phi.T @ ys_train_std\n",
    "\n",
    "# This variable should contain the predictions using w_lr on the test data\n",
    "vector2 = np.ones(xs_valid_std.shape[0]) # creates vector only containing ones matching the size of xs_valid_std\n",
    "phi_valid = np.c_[vector2, xs_valid_std]\n",
    "ys_pred_valid = phi_valid @ w_lr.reshape([-1,1])\n",
    "\n",
    "# This should contain the resulting smse\n",
    "smse_lr = my_smse(ys_pred_valid, ys_valid_std, var_ys_train)\n",
    "smse_lr"
   ]
  },
  {
   "cell_type": "markdown",
   "metadata": {},
   "source": [
    "### Linear regression with polynomial features\n",
    "__Task A.5__"
   ]
  },
  {
   "cell_type": "code",
   "execution_count": 16,
   "metadata": {},
   "outputs": [],
   "source": [
    "def my_poly_features_1d(xs, degree):\n",
    "    copy = xs.copy() #creates copy of array\n",
    "    temp1 = xs \n",
    "    index = list(range(xs.shape[0])) #creates index as list from 0 to amount of rows-1 \n",
    "\n",
    "    for d in range(1, degree):\n",
    "        temp2 = []\n",
    "        for i, j in enumerate(xs): #indexing of the array\n",
    "            index2 = len(temp2) # new index counting the elements in temp2\n",
    "            for a in temp1[index[i]:]: #iterating over array\n",
    "                temp2.append(j*a)\n",
    "            index[i] = index2\n",
    "        copy = np.append(copy, temp2) #adds the calucation to the array\n",
    "        temp1 = temp2\n",
    "\n",
    "    copy = np.insert(copy, 0, 1) #adds column only containing ones at the begining of the array\n",
    "\n",
    "    return copy"
   ]
  },
  {
   "cell_type": "code",
   "execution_count": 17,
   "metadata": {},
   "outputs": [],
   "source": [
    "# Task A.5.a\n",
    "def my_poly_features(xs, degree):\n",
    "    \"\"\"Generates polynomial features from given data\n",
    "    \n",
    "    The polynomial features should include monomials (i.e., x_i, x_i**2 etc)\n",
    "    and interaction terms (x_1*x_2 etc), but no repetitions.\n",
    "    The order of the samples should not be changed through the transformation.\n",
    "    \n",
    "    Arguments\n",
    "    xs      2d numpy array of shape (N,D) containing N samples of dimension D\n",
    "    degree  Maximum degree of polynomials to be considered\n",
    "    \n",
    "    Returns\n",
    "    An (N,M) numpy array containing the transformed input\n",
    "    \"\"\"\n",
    "    # Your implementation\n",
    "    temp = np.array([my_poly_features_1d(row, degree) for row in xs]) #uses function that is only able to take 1d as input on 2d array\n",
    "    return temp"
   ]
  },
  {
   "cell_type": "code",
   "execution_count": 18,
   "metadata": {},
   "outputs": [],
   "source": [
    "# Tasks A.5.b\n",
    "# This variable should contain the weights corresponding to linear regression using polynomial features up to degree 2 and 3\n",
    "phi_2 = my_poly_features(xs_train_std, 2)\n",
    "phi_3 = my_poly_features(xs_train_std, 3)\n",
    "\n",
    "w_poly2 = np.linalg.inv(phi_2.T @ phi_2) @ phi_2.T @ ys_train_std\n",
    "w_poly3 = np.linalg.inv(phi_3.T @ phi_3) @ phi_3.T @ ys_train_std\n",
    "\n",
    "# This variable should contain the predictions using w_poly2 and w_poly3 on the validation data\n",
    "ys_pred_poly2_valid = my_poly_features(xs_valid_std, 2) @ w_poly2.T.reshape([-1,1])\n",
    "ys_pred_poly3_valid = my_poly_features(xs_valid_std, 3) @ w_poly3.T.reshape([-1,1])\n",
    "\n",
    "# This should contain the resulting smse\n",
    "smse_poly2 = my_smse(ys_pred_poly2_valid, ys_valid_std, var_ys_train)\n",
    "smse_poly3 = my_smse(ys_pred_poly3_valid, ys_valid_std, var_ys_train)"
   ]
  },
  {
   "cell_type": "code",
   "execution_count": 19,
   "metadata": {},
   "outputs": [
    {
     "name": "stdout",
     "output_type": "stream",
     "text": [
      "smse_poly2: 0.034328459165135154 smse_poly3: 0.016167476998437787\n"
     ]
    }
   ],
   "source": [
    "print('smse_poly2:', smse_poly2, 'smse_poly3:', smse_poly3)"
   ]
  },
  {
   "cell_type": "markdown",
   "metadata": {},
   "source": [
    "## Clustering\n",
    "__Task B.1__ Implement the basic $K$-Means algorithm."
   ]
  },
  {
   "cell_type": "code",
   "execution_count": 20,
   "metadata": {},
   "outputs": [],
   "source": [
    "def my_kmeans(xs, init_centers, n_iter):\n",
    "    \"\"\"Runs the K-Means algorithm from a given initialization\n",
    "    \n",
    "    Arguments\n",
    "    xs            2d numpy array of shape (N,D) containing N samples of dimension D\n",
    "    init_centers  2d numpy array of shape (K,D) containing the initial cluster centers\n",
    "    n_iter        Number of iterations of the K-Means algorithm\n",
    "    \n",
    "    Returns\n",
    "    An (K,D) numpy array containing the final cluster centers\n",
    "    \"\"\"\n",
    "    # Your implementation\n",
    "    centers = init_centers\n",
    "    K = len(init_centers)\n",
    "    for i in range(n_iter):\n",
    "        distances = np.array([]).reshape(len(xs),0)\n",
    "        for k in range(K): \n",
    "            distances = np.column_stack((distances,np.sqrt(np.sum((xs-centers[k])**2,axis=1))))\n",
    "        min_centers = np.argmin(distances,axis=1)\n",
    "        centers_distances = {}\n",
    "        for k in range(K):\n",
    "            center_distances = np.array([]).reshape(2,0)\n",
    "            for n in range(len(min_centers)):\n",
    "                if k == min_centers[n]:\n",
    "                    center_distances = np.column_stack((center_distances, xs[n]))\n",
    "            centers_distances[k]=center_distances\n",
    "            centers_distances[k]=centers_distances[k].T\n",
    "            centers[k] = np.mean(centers_distances[k], axis=0)\n",
    "    return centers\n",
    "        \n",
    "    pass"
   ]
  },
  {
   "cell_type": "markdown",
   "metadata": {},
   "source": [
    "__Task B.2__ Generate test data set and plot it."
   ]
  },
  {
   "cell_type": "code",
   "execution_count": 23,
   "metadata": {},
   "outputs": [
    {
     "data": {
      "text/plain": [
       "<matplotlib.collections.PathCollection at 0x7f9a2c728760>"
      ]
     },
     "execution_count": 23,
     "metadata": {},
     "output_type": "execute_result"
    },
    {
     "data": {
      "image/png": "[encoded data removed]",
      "text/plain": [
       "<Figure size 432x288 with 1 Axes>"
      ]
     },
     "metadata": {
      "needs_background": "light"
     },
     "output_type": "display_data"
    }
   ],
   "source": [
    "xs_cluster_test = np.zeros((100,2))\n",
    "random = np.random.rand(100,1)\n",
    "rng = np.random.default_rng(1234)\n",
    "\n",
    "for i in range(len(random)):\n",
    "    if random[i] < 0.3:\n",
    "        xs_cluster_test[i] = rng.multivariate_normal((-2,2), np.multiply(0.2, np.identity(2)), size=None, check_valid='warn', tol=1e-8)\n",
    "        continue\n",
    "    elif random[i] < 0.5:\n",
    "        xs_cluster_test[i] = rng.multivariate_normal((-2,-2), np.multiply(0.2, np.identity(2)), size=None, check_valid='warn', tol=1e-8)\n",
    "        continue\n",
    "    elif random[i] < 0.9:\n",
    "        xs_cluster_test[i] = rng.multivariate_normal((2,-2), np.multiply(0.5, np.identity(2)), size=None, check_valid='warn', tol=1e-8)\n",
    "        continue\n",
    "    else:\n",
    "        xs_cluster_test[i] = rng.multivariate_normal((2,2), np.multiply(0.5, np.identity(2)), size=None, check_valid='warn', tol=1e-8)\n",
    "\n",
    "plt.scatter(xs_cluster_test[:,0],xs_cluster_test[:,1])"
   ]
  },
  {
   "cell_type": "markdown",
   "metadata": {},
   "source": [
    "__Task B.3__ Run your $K$-Means algorithm on the test data for $K=2,3,4,5$ clusters and plot the final cluster centers."
   ]
  },
  {
   "cell_type": "code",
   "execution_count": 24,
   "metadata": {},
   "outputs": [
    {
     "data": {
      "text/plain": [
       "<function matplotlib.pyplot.show(close=None, block=None)>"
      ]
     },
     "execution_count": 24,
     "metadata": {},
     "output_type": "execute_result"
    },
    {
     "data": {
      "image/png": "[encoded data removed]",
      "text/plain": [
       "<Figure size 720x720 with 4 Axes>"
      ]
     },
     "metadata": {
      "needs_background": "light"
     },
     "output_type": "display_data"
    }
   ],
   "source": [
    "# Use kmeans_plusplus(xs_cluster_test, K, random_state=0) for initialization\n",
    "n_iter = 5\n",
    "fig = plt.figure(figsize=(10, 10))\n",
    "\n",
    "i = 1\n",
    "for k in [2,3,4,5]:\n",
    "    init_centers, indices = kmeans_plusplus(xs_cluster_test, k, random_state=0)\n",
    "    data = my_kmeans(xs_cluster_test, init_centers, n_iter)\n",
    "    plt.subplot(2, 2, i)\n",
    "    plt.scatter(xs_cluster_test[:,0],xs_cluster_test[:,1])\n",
    "    plt.scatter(data[:,0], data[:,1], color=\"red\")\n",
    "    plt.xlim(-4,4)\n",
    "    plt.ylim(-4,4)\n",
    "    i=i+1\n",
    "plt.show\n",
    "\n"
   ]
  },
  {
   "cell_type": "markdown",
   "metadata": {},
   "source": [
    "## Radial Basis Function Network\n",
    "__Task C.1__ Find $K=100$ cluster centers using $K$-Means."
   ]
  },
  {
   "cell_type": "code",
   "execution_count": 25,
   "metadata": {},
   "outputs": [],
   "source": [
    "# This 100x21 numpy array should contain the cluster centers\n",
    "kmeans = KMeans(n_clusters=100, init='k-means++', random_state=0).fit(xs_train_std)\n",
    "xs_centers = kmeans.cluster_centers_  # location of newly created centerpoints\n",
    "labels = kmeans.labels_ # labels each trainings dataset point regarding it's center"
   ]
  },
  {
   "cell_type": "markdown",
   "metadata": {},
   "source": [
    "__Task C.2__ Implement the Gaussian basis functions and transform the data accordingly"
   ]
  },
  {
   "cell_type": "code",
   "execution_count": 26,
   "metadata": {},
   "outputs": [],
   "source": [
    "# xs_train_gauss = \n",
    "def gaussianBasisFunction(sigmaSquared, r):\n",
    "    return (1/(math.sqrt(2*math.pi*sigmaSquared)))*math.exp((-math.pow(r,2))/(2*sigmaSquared))\n",
    "\n",
    "\n",
    "def twoNormDistance(x, y): \n",
    "    return np.linalg.norm(np.subtract(x, y), ord=2, axis=None, keepdims=False)\n",
    "\n",
    "def transform(dataPoints, centers, numberOfCenters):\n",
    "    transformedPoints = np.zeros([dataPoints[:,0].size, numberOfCenters])\n",
    "    # Transform inputs:\n",
    "    for i in range(dataPoints[:,0].size): # loop through all datapoints\n",
    "        for k in range(numberOfCenters): # loop through all center points \n",
    "            transformedPoints[i, k] = gaussianBasisFunction(25**2, twoNormDistance(dataPoints[i,:], centers[k,:]))\n",
    "    return transformedPoints\n",
    "\n",
    "xs_train_gauss = transform(xs_train_std, xs_centers, 100)\n",
    "xs_valid_gauss = transform(xs_valid_std, xs_centers, 100)\n",
    "xs_test_gauss = transform(xs_test_std, xs_centers, 100)\n",
    "\n",
    "# Append ones to enable bias\n",
    "ones_train = np.ones((xs_train_std[:,1].size, 1))\n",
    "xs_train_gauss = np.hstack((xs_train_gauss,ones_train))\n",
    "ones_valid = np.ones((xs_valid_std[:,1].size, 1))\n",
    "xs_valid_gauss = np.hstack((xs_valid_gauss,ones_valid))\n",
    "ones_test = np.ones((xs_test_std[:,1].size, 1))\n",
    "xs_test_gauss = np.hstack((xs_test_gauss,ones_test))"
   ]
  },
  {
   "cell_type": "markdown",
   "metadata": {},
   "source": [
    "__Task C.3__ Run simple linear regression on the transformed data and evaluate it on the test set"
   ]
  },
  {
   "cell_type": "code",
   "execution_count": 27,
   "metadata": {},
   "outputs": [
    {
     "name": "stdout",
     "output_type": "stream",
     "text": [
      "0.04170624732115517\n"
     ]
    }
   ],
   "source": [
    "# This should contain the resulting predictions on the validation data set\n",
    "# ys_pred_gauss_valid = \n",
    "\n",
    "# Learn linear regression\n",
    "from sklearn.linear_model import LinearRegression\n",
    "reg = LinearRegression().fit(xs_train_gauss, ys_train_std)\n",
    "\n",
    "\n",
    "ys_pred_gauss_train = reg.predict(xs_train_gauss)\n",
    "ys_pred_gauss_valid = reg.predict(xs_valid_gauss)\n",
    "ys_pred_gauss_test = reg.predict(xs_test_gauss)\n",
    "\n",
    "# This should contain the corresponding SMSE\n",
    "# smse_gauss = \n",
    "smse_gauss = my_smse(ys_pred_gauss_valid, ys_valid_std, np.var(ys_valid_std))\n",
    "print(smse_gauss)"
   ]
  },
  {
   "cell_type": "markdown",
   "metadata": {},
   "source": [
    "__Open task__ Can you improve the performance of the RBF network?"
   ]
  },
  {
   "cell_type": "code",
   "execution_count": 28,
   "metadata": {},
   "outputs": [
    {
     "name": "stdout",
     "output_type": "stream",
     "text": [
      "0.04360050758128406\n",
      "0.04170624732115517\n",
      "0.04251767712245977\n",
      "-> No overfitting. Try higher complexity.\n"
     ]
    }
   ],
   "source": [
    "smse_gauss_valid = smse_gauss\n",
    "smse_gauss_train = my_smse(ys_pred_gauss_train, ys_train_std, np.var(ys_train_std))\n",
    "smse_gauss_test = my_smse(ys_pred_gauss_test, ys_test_std, np.var(ys_test_std))\n",
    "\n",
    "print(smse_gauss_train)\n",
    "print(smse_gauss_valid)\n",
    "print(smse_gauss_test)\n",
    "print(\"-> No overfitting. Try higher complexity.\")"
   ]
  },
  {
   "cell_type": "code",
   "execution_count": 29,
   "metadata": {},
   "outputs": [],
   "source": [
    "# Find 500 centers\n",
    "kmeansBetter = KMeans(n_clusters=500, init='k-means++', random_state=0).fit(xs_train_std)\n",
    "xs_centersBetter = kmeansBetter.cluster_centers_  # location of newly created centerpoints\n",
    "labelsBetter = kmeansBetter.labels_ # labels each trainings dataset point regarding it's center\n",
    "\n",
    "xs_train_gaussBetter = transform(xs_train_std, xs_centersBetter, 500)\n",
    "xs_valid_gaussBetter = transform(xs_valid_std, xs_centersBetter, 500)\n",
    "xs_test_gaussBetter = transform(xs_test_std, xs_centersBetter, 500)\n",
    "# Append ones to enable bias\n",
    "ones_trainBetter = np.ones((xs_train_std[:,1].size, 1))\n",
    "xs_train_gaussBetter = np.hstack((xs_train_gaussBetter,ones_trainBetter))\n",
    "ones_validBetter = np.ones((xs_valid_std[:,1].size, 1))\n",
    "xs_valid_gaussBetter = np.hstack((xs_valid_gaussBetter,ones_validBetter))\n",
    "ones_testBetter = np.ones((xs_test_std[:,1].size, 1))\n",
    "xs_test_gaussBetter = np.hstack((xs_test_gaussBetter,ones_testBetter))"
   ]
  },
  {
   "cell_type": "code",
   "execution_count": 32,
   "metadata": {},
   "outputs": [
    {
     "name": "stdout",
     "output_type": "stream",
     "text": [
      "0.025944893306203247\n",
      "0.026605373075268356\n",
      "Better regression than before. I could probably further increase complexity without overfitting, but my Laptop is slow.\n"
     ]
    }
   ],
   "source": [
    "# Learn linear regression\n",
    "from sklearn.linear_model import LinearRegression\n",
    "regBetter = LinearRegression().fit(xs_train_gaussBetter, ys_train_std)\n",
    "\n",
    "\n",
    "ys_pred_gauss_trainBetter = regBetter.predict(xs_train_gaussBetter)\n",
    "ys_pred_gauss_validBetter = regBetter.predict(xs_valid_gaussBetter)\n",
    "\n",
    "\n",
    "smse_gauss_validBetter = my_smse(ys_pred_gauss_trainBetter, ys_train_std, np.var(ys_train_std))\n",
    "smse_gauss_trainBetter = my_smse(ys_pred_gauss_validBetter, ys_valid_std, np.var(ys_valid_std))\n",
    "smse_gauss_testBetter = my_smse(ys_pred_gauss_testBetter, ys_test_std, np.var(ys_test_std))\n",
    "\n",
    "print(smse_gauss_trainBetter)\n",
    "print(smse_gauss_validBetter)\n",
    "print(\"Better regression than before. I could probably further increase complexity without overfitting, but my Laptop is slow.\")"
   ]
  },
  {
   "cell_type": "markdown",
   "metadata": {},
   "source": [
    "__Task C.4__ Evaluate your final model (either the one from Task C.3 or your improved model from the open task) on the test data"
   ]
  },
  {
   "cell_type": "code",
   "execution_count": 31,
   "metadata": {},
   "outputs": [
    {
     "name": "stdout",
     "output_type": "stream",
     "text": [
      "0.026072530882785203\n"
     ]
    }
   ],
   "source": [
    "# This should contain the predictions on the test data set\n",
    "# ys_pred_test = \n",
    "ys_pred_gauss_testBetter = regBetter.predict(xs_test_gaussBetter)\n",
    "ys_pred_test = ys_pred_gauss_test\n",
    "# This should contain the resulting SMSE on the test data\n",
    "# smse_test = \n",
    "smse_gauss_testBetter = my_smse(ys_pred_gauss_testBetter, ys_test_std, np.var(ys_test_std))\n",
    "\n",
    "smse_test = smse_gauss_testBetter\n",
    "\n",
    "print(smse_test)"
   ]
  },
  {
   "cell_type": "code",
   "execution_count": null,
   "metadata": {},
   "outputs": [],
   "source": []
  },
  {
   "cell_type": "code",
   "execution_count": null,
   "metadata": {},
   "outputs": [],
   "source": []
  },
  {
   "cell_type": "code",
   "execution_count": null,
   "metadata": {},
   "outputs": [],
   "source": []
  },
  {
   "cell_type": "code",
   "execution_count": null,
   "metadata": {},
   "outputs": [],
   "source": []
  }
 ],
 "metadata": {
  "kernelspec": {
   "display_name": "Python 3",
   "language": "python",
   "name": "python3"
  },
  "language_info": {
   "codemirror_mode": {
    "name": "ipython",
    "version": 3
   },
   "file_extension": ".py",
   "mimetype": "text/x-python",
   "name": "python",
   "nbconvert_exporter": "python",
   "pygments_lexer": "ipython3",
   "version": "3.8.5"
  }
 },
 "nbformat": 4,
 "nbformat_minor": 5
}
